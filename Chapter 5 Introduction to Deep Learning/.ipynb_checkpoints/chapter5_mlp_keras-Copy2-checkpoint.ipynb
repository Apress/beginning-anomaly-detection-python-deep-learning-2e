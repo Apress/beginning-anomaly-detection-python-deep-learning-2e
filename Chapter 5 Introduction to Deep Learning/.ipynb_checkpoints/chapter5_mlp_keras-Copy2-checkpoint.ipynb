{
 "cells": [
  {
   "cell_type": "code",
   "execution_count": 1,
   "id": "f7a3992a-2426-49d7-b111-816caa9fec43",
   "metadata": {},
   "outputs": [],
   "source": [
    "import numpy as np\n",
    "import pandas as pd\n",
    "import matplotlib.pyplot as plt\n",
    "from sklearn.model_selection import train_test_split\n",
    "from sklearn.preprocessing import LabelEncoder\n",
    "from sklearn.metrics import precision_score, recall_score, f1_score, confusion_matrix, ConfusionMatrixDisplay, roc_auc_score\n",
    "\n",
    "%matplotlib inline"
   ]
  },
  {
   "cell_type": "code",
   "execution_count": null,
   "id": "02fabe08-2337-463f-9f44-ff449222abc0",
   "metadata": {},
   "outputs": [],
   "source": [
    "columns = [\"duration\", \"protocol_type\", \"service\", \"flag\", \"src_bytes\", \"dst_bytes\", \"land\", \"wrong_fragment\", \"urgent\",\n",
    "        \"hot\", \"num_failed_logins\", \"logged_in\", \"num_compromised\", \"root_shell\", \"su_attempted\", \"num_root\", \n",
    "        \"num_file_creations\", \"num_shells\", \"num_access_files\", \"num_outbound_cmds\", \"is_host_login\",\n",
    "        \"is_guest_login\", \"count\", \"srv_count\", \"serror_rate\", \"srv_serror_rate\", \"rerror_rate\", \"srv_rerror_rate\",\n",
    "        \"same_srv_rate\", \"diff_srv_rate\", \"srv_diff_host_rate\", \"dst_host_count\", \"dst_host_srv_count\", \n",
    "        \"dst_host_same_srv_rate\", \"dst_host_diff_srv_rate\", \"dst_host_same_src_port_rate\", \"dst_host_srv_diff_host_rate\",\n",
    "        \"dst_host_serror_rate\", \"dst_host_srv_serror_rate\", \"dst_host_rerror_rate\", \"dst_host_srv_rerror_rate\", \"label\"]\n",
    "\n",
    "df = pd.read_csv(\"data/kddcup.data.corrected\", sep=\",\", names=columns, index_col=None)\n"
   ]
  },
  {
   "cell_type": "code",
   "execution_count": null,
   "id": "581dadbe-2a4c-4955-8fb6-6d46f6eca5ce",
   "metadata": {},
   "outputs": [],
   "source": [
    "# Filter to only 'http' attacks\n",
    "df = df[df[\"service\"] == \"http\"]\n",
    "df = df.drop(\"service\", axis=1)\n"
   ]
  },
  {
   "cell_type": "code",
   "execution_count": null,
   "id": "534c2842-6db3-4a68-b455-106d8e2087a7",
   "metadata": {},
   "outputs": [],
   "source": [
    "df['label'] = df['label'].apply(lambda x: 0 if x=='normal.' else 1)\n",
    "df['label'].value_counts()"
   ]
  },
  {
   "cell_type": "code",
   "execution_count": null,
   "id": "85a36a85-a33b-4b1c-a34c-01d495f6cb57",
   "metadata": {},
   "outputs": [],
   "source": [
    "datatypes = dict(zip(df.dtypes.index, df.dtypes))\n",
    "\n",
    "encoder_map = {}\n",
    "for col, datatype in datatypes.items():\n",
    "    if datatype == 'object':\n",
    "        encoder = LabelEncoder()\n",
    "        df[col] = encoder.fit_transform(df[col])\n",
    "        encoder_map[col] = encoder \n"
   ]
  },
  {
   "cell_type": "code",
   "execution_count": null,
   "id": "713a32b2-2618-49e7-9873-a87ffe75d68f",
   "metadata": {},
   "outputs": [],
   "source": [
    "# Check the variables with highest correlation with 'label'\n",
    "df2 = df.copy()\n",
    "label_corr = df2.corr()['label']"
   ]
  },
  {
   "cell_type": "code",
   "execution_count": null,
   "id": "4be10598-25c7-4353-a2a5-aa10112ba649",
   "metadata": {},
   "outputs": [],
   "source": [
    "# Filter out anything that has null entry or is not weakly correlated\n",
    "train_cols = label_corr[(~label_corr.isna()) & (np.abs(label_corr) > 0.2)]\n",
    "train_cols = list(train_cols[:-1].index)\n",
    "train_cols"
   ]
  },
  {
   "cell_type": "code",
   "execution_count": null,
   "id": "205c551d-4261-452c-bff6-dde996a1ed7d",
   "metadata": {},
   "outputs": [],
   "source": [
    "labels = df2['label']\n",
    "# Conduct a train-test split    \n",
    "x_train, x_test, y_train, y_test = train_test_split(df2[train_cols].values, labels.values, test_size = 0.15, random_state = 42)\n"
   ]
  },
  {
   "cell_type": "code",
   "execution_count": null,
   "id": "eb37e05c-7556-494d-be4c-774378f00c8a",
   "metadata": {},
   "outputs": [],
   "source": [
    "# Additional split of training dataset to create validation split\n",
    "x_train, x_val, y_train, y_val = train_test_split(x_train, y_train, test_size=0.2, random_state=42)"
   ]
  },
  {
   "cell_type": "code",
   "execution_count": null,
   "id": "5616b7c9-1e90-4bc2-8e98-df38656b8f54",
   "metadata": {},
   "outputs": [],
   "source": [
    "print(\"Shapes\")\n",
    "print(f\"x_train:{x_train.shape}\\ny_train:{y_train.shape}\")\n",
    "print(f\"\\nx_val:{x_val.shape}\\ny_val:{y_val.shape}\")\n",
    "print(f\"\\nx_test:{x_test.shape}\\ny_test:{y_test.shape}\")"
   ]
  },
  {
   "cell_type": "code",
   "execution_count": null,
   "id": "f5856682-83a5-46a3-bc66-6a2769fde34a",
   "metadata": {},
   "outputs": [],
   "source": [
    "import tensorflow\n",
    "tensorflow.__version__"
   ]
  },
  {
   "cell_type": "code",
   "execution_count": null,
   "id": "d55434dc-d152-4b0e-bd58-1cb8a8bd71e5",
   "metadata": {},
   "outputs": [],
   "source": [
    "from tensorflow.keras.utils import to_categorical\n",
    "\n",
    "y_train =  to_categorical(y_train)\n",
    "y_test =  to_categorical(y_test)\n",
    "y_val =  to_categorical(y_val)"
   ]
  },
  {
   "cell_type": "code",
   "execution_count": null,
   "id": "ab4c5cba-4f00-4653-af7e-e01257f8c0a7",
   "metadata": {},
   "outputs": [],
   "source": [
    "print(\"Shapes\")\n",
    "print(f\"x_train:{x_train.shape}\\ny_train:{y_train.shape}\")\n",
    "print(f\"\\nx_val:{x_val.shape}\\ny_val:{y_val.shape}\")\n",
    "print(f\"\\nx_test:{x_test.shape}\\ny_test:{y_test.shape}\")"
   ]
  },
  {
   "cell_type": "code",
   "execution_count": null,
   "id": "23b95dd6-ecf6-4a84-b53d-d3de737e514b",
   "metadata": {},
   "outputs": [],
   "source": [
    "from tensorflow.keras.models import Model\n",
    "from tensorflow.keras.layers import Input, Dense\n",
    "from tensorflow.keras.regularizers import L2\n",
    "from tensorflow.keras.callbacks import EarlyStopping"
   ]
  },
  {
   "cell_type": "code",
   "execution_count": 31,
   "id": "73b80682-406e-4be0-b8cb-2a41afd42bb0",
   "metadata": {},
   "outputs": [],
   "source": [
    "# The input layer requires you to specify the dimensionality of the x-features (and not the number of samples)\n",
    "input_layer = Input(shape=(13))\n",
    "h1 = Dense(26, activation='relu', kernel_initializer = 'he_normal', kernel_regularizer = L2(l2=1e-5))(input_layer)\n",
    "h2 = Dense(26, activation='relu', kernel_initializer = 'he_normal', kernel_regularizer = L2(l2=1e-5))(h1)\n",
    "h3 = Dense(26, activation='relu', kernel_initializer = 'he_normal', kernel_regularizer = L2(l2=1e-5))(h2)\n",
    "h4 = Dense(6, activation='relu', kernel_initializer = 'he_normal', kernel_regularizer = L2(l2=1e-5))(h3)\n",
    "output_layer = Dense(2, activation='softmax', kernel_regularizer = L2(l2=1e-5))(h4)\n",
    "\n",
    "# Creating a model by specifying the input layer and output layer\n",
    "model = Model(input_layer, output_layer)"
   ]
  },
  {
   "cell_type": "code",
   "execution_count": 15,
   "id": "0e9d80b7-1b26-4b02-8293-13c90f835a5f",
   "metadata": {},
   "outputs": [],
   "source": [
    "es = EarlyStopping(patience=5, min_delta=1e-3, monitor='val_loss', restore_best_weights=True)"
   ]
  },
  {
   "cell_type": "code",
   "execution_count": 16,
   "id": "1fedb51f-0d98-4dcb-b1b6-ae2071473f11",
   "metadata": {},
   "outputs": [],
   "source": [
    "callbacks = [es]"
   ]
  },
  {
   "cell_type": "code",
   "execution_count": 17,
   "id": "a837e8dc-4e08-42aa-b089-e34a0ebf516f",
   "metadata": {},
   "outputs": [],
   "source": [
    "model.compile(optimizer='adam', loss='categorical_crossentropy', metrics='accuracy')"
   ]
  },
  {
   "cell_type": "code",
   "execution_count": 18,
   "id": "a7326df3-12e5-4297-b4d4-c0d2cef191e4",
   "metadata": {},
   "outputs": [
    {
     "name": "stdout",
     "output_type": "stream",
     "text": [
      "Epoch 1/20\n",
      "3311/3311 [==============================] - 16s 4ms/step - loss: 0.0979 - accuracy: 0.9930 - val_loss: 0.0472 - val_accuracy: 0.9912\n",
      "Epoch 2/20\n",
      "3311/3311 [==============================] - 15s 4ms/step - loss: 0.0163 - accuracy: 0.9969 - val_loss: 0.0091 - val_accuracy: 0.9957\n",
      "Epoch 3/20\n",
      "3311/3311 [==============================] - 15s 4ms/step - loss: 0.0049 - accuracy: 0.9989 - val_loss: 0.0025 - val_accuracy: 0.9999\n",
      "Epoch 4/20\n",
      "3311/3311 [==============================] - 15s 4ms/step - loss: 0.0042 - accuracy: 0.9991 - val_loss: 0.0040 - val_accuracy: 0.9998\n",
      "Epoch 5/20\n",
      "3311/3311 [==============================] - 15s 4ms/step - loss: 0.0064 - accuracy: 0.9978 - val_loss: 0.0054 - val_accuracy: 0.9999\n",
      "Epoch 6/20\n",
      "3311/3311 [==============================] - 14s 4ms/step - loss: 0.0038 - accuracy: 0.9992 - val_loss: 0.0081 - val_accuracy: 0.9970\n",
      "Epoch 7/20\n",
      "3311/3311 [==============================] - 14s 4ms/step - loss: 0.0033 - accuracy: 0.9994 - val_loss: 0.0017 - val_accuracy: 0.9999\n",
      "Epoch 8/20\n",
      "3311/3311 [==============================] - 14s 4ms/step - loss: 0.0065 - accuracy: 0.9981 - val_loss: 0.0028 - val_accuracy: 0.9993\n"
     ]
    }
   ],
   "source": [
    "epochs = 20\n",
    "batch_size = 128\n",
    "\n",
    "history = model.fit(x_train, y_train, validation_data=(x_val, y_val), epochs=epochs, batch_size=batch_size, callbacks=callbacks)"
   ]
  },
  {
   "cell_type": "code",
   "execution_count": 19,
   "id": "8e98f2c3-4916-4cc7-a5da-b20e2e50a7b1",
   "metadata": {},
   "outputs": [
    {
     "name": "stdout",
     "output_type": "stream",
     "text": [
      "2921/2921 [==============================] - 8s 3ms/step - loss: 0.0018 - accuracy: 1.0000\n"
     ]
    },
    {
     "data": {
      "text/plain": [
       "[0.001773550291545689, 0.9999678730964661]"
      ]
     },
     "execution_count": 19,
     "metadata": {},
     "output_type": "execute_result"
    }
   ],
   "source": [
    "model.evaluate(x_test, y_test)"
   ]
  },
  {
   "cell_type": "code",
   "execution_count": 20,
   "id": "bcb643f5-3e78-44a2-a9cb-6438fded4c82",
   "metadata": {},
   "outputs": [],
   "source": [
    "preds = model.predict(x_test)"
   ]
  },
  {
   "cell_type": "code",
   "execution_count": 21,
   "id": "e2ecdef4-9eee-4ee0-ae59-358c340918cf",
   "metadata": {},
   "outputs": [
    {
     "data": {
      "text/plain": [
       "array([[1.0000000e+00, 1.9497313e-20],\n",
       "       [1.0000000e+00, 6.8496485e-24],\n",
       "       [1.0000000e+00, 3.9058350e-17],\n",
       "       ...,\n",
       "       [1.0000000e+00, 1.4461534e-24],\n",
       "       [1.0000000e+00, 6.8427105e-29],\n",
       "       [1.0000000e+00, 6.1351264e-28]], dtype=float32)"
      ]
     },
     "execution_count": 21,
     "metadata": {},
     "output_type": "execute_result"
    }
   ],
   "source": [
    "preds"
   ]
  },
  {
   "cell_type": "code",
   "execution_count": 22,
   "id": "75ac63c1-2d0e-4ed6-a9d4-402174be25ad",
   "metadata": {},
   "outputs": [
    {
     "data": {
      "text/plain": [
       "array([0, 0, 0, ..., 0, 0, 0], dtype=int64)"
      ]
     },
     "execution_count": 22,
     "metadata": {},
     "output_type": "execute_result"
    }
   ],
   "source": [
    "y_true = y_test.argmax(axis=1)\n",
    "y_true"
   ]
  },
  {
   "cell_type": "code",
   "execution_count": 23,
   "id": "c508555d-0af7-42de-9925-d66c8be7c2bb",
   "metadata": {},
   "outputs": [],
   "source": [
    "y_preds = preds.argmax(axis=1)"
   ]
  },
  {
   "cell_type": "code",
   "execution_count": 24,
   "id": "6a6fb5cd-a871-4364-8c10-f27d9b44e152",
   "metadata": {},
   "outputs": [
    {
     "data": {
      "text/plain": [
       "(1.0, 0.9947275922671354, 0.9973568281938325)"
      ]
     },
     "execution_count": 24,
     "metadata": {},
     "output_type": "execute_result"
    }
   ],
   "source": [
    "precision_score(y_true, y_preds), recall_score(y_true, y_preds), f1_score(y_true, y_preds)"
   ]
  },
  {
   "cell_type": "code",
   "execution_count": 28,
   "id": "1b67e4c4-75fe-4213-b040-453a2a267b98",
   "metadata": {},
   "outputs": [
    {
     "data": {
      "text/plain": [
       "(1.0, 0.8875219683655536, 0.9404096834264433)"
      ]
     },
     "execution_count": 28,
     "metadata": {},
     "output_type": "execute_result"
    }
   ],
   "source": [
    "precision_score(y_true, y_preds), recall_score(y_true, y_preds), f1_score(y_true, y_preds)"
   ]
  },
  {
   "cell_type": "code",
   "execution_count": 44,
   "id": "6e5fa183-3fb6-485c-b52e-84812d032a26",
   "metadata": {},
   "outputs": [
    {
     "data": {
      "text/plain": [
       "1.0"
      ]
     },
     "execution_count": 44,
     "metadata": {},
     "output_type": "execute_result"
    }
   ],
   "source": []
  },
  {
   "cell_type": "code",
   "execution_count": 45,
   "id": "0c620e6a-5077-47a2-ad85-88913597c1af",
   "metadata": {},
   "outputs": [
    {
     "data": {
      "text/plain": [
       "0.9982456140350877"
      ]
     },
     "execution_count": 45,
     "metadata": {},
     "output_type": "execute_result"
    }
   ],
   "source": []
  },
  {
   "cell_type": "code",
   "execution_count": 46,
   "id": "22704188-6812-4021-a125-d1a6309d4c98",
   "metadata": {},
   "outputs": [],
   "source": [
    "from sklearn.metrics import ConfusionMatrixDisplay"
   ]
  },
  {
   "cell_type": "code",
   "execution_count": 48,
   "id": "03107605-3525-48bd-bf24-6f5433a05b72",
   "metadata": {},
   "outputs": [],
   "source": [
    "cm = confusion_matrix(y_true, y_preds)"
   ]
  },
  {
   "cell_type": "code",
   "execution_count": 54,
   "id": "0e9a2046-afd4-41d9-b53d-f5bafa775ded",
   "metadata": {},
   "outputs": [
    {
     "data": {
      "text/plain": [
       "<sklearn.metrics._plot.confusion_matrix.ConfusionMatrixDisplay at 0x1803e348910>"
      ]
     },
     "execution_count": 54,
     "metadata": {},
     "output_type": "execute_result"
    }
   ],
   "source": [
    "ConfusionMatrixDisplay(cm)\n"
   ]
  },
  {
   "cell_type": "code",
   "execution_count": 56,
   "id": "74764d5b-9f22-46cd-a05c-a199ec0b425d",
   "metadata": {},
   "outputs": [
    {
     "data": {
      "text/plain": [
       "array([[92893,     2],\n",
       "       [    0,   569]], dtype=int64)"
      ]
     },
     "execution_count": 56,
     "metadata": {},
     "output_type": "execute_result"
    }
   ],
   "source": [
    "cm"
   ]
  },
  {
   "cell_type": "code",
   "execution_count": null,
   "id": "ead8d8a1-0130-4f18-807e-527a370ad945",
   "metadata": {},
   "outputs": [],
   "source": []
  }
 ],
 "metadata": {
  "kernelspec": {
   "display_name": "Python 3 (ipykernel)",
   "language": "python",
   "name": "python3"
  },
  "language_info": {
   "codemirror_mode": {
    "name": "ipython",
    "version": 3
   },
   "file_extension": ".py",
   "mimetype": "text/x-python",
   "name": "python",
   "nbconvert_exporter": "python",
   "pygments_lexer": "ipython3",
   "version": "3.8.12"
  }
 },
 "nbformat": 4,
 "nbformat_minor": 5
}
